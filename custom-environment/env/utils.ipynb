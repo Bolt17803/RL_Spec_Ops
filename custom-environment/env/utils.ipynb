{
 "cells": [
  {
   "cell_type": "code",
   "execution_count": 3,
   "metadata": {},
   "outputs": [],
   "source": [
    "import math\n",
    "from custom_environment import Spec_Ops_Env"
   ]
  },
  {
   "cell_type": "code",
   "execution_count": 2,
   "metadata": {},
   "outputs": [],
   "source": [
    "def angle_from_agent(px, py, sx, sy): # (px,py) are the coordinates from which (sx,sy) angle is measured\n",
    "    x = sx - px\n",
    "    y = sy - py\n",
    "    angle = math.atan2(y, x)\n",
    "    if angle < 0:\n",
    "        angle += 2 * math.pi\n",
    "    return 360-180*(1/math.pi)*angle"
   ]
  },
  {
   "cell_type": "code",
   "execution_count": 6,
   "metadata": {},
   "outputs": [
    {
     "data": {
      "text/plain": [
       "135.0"
      ]
     },
     "execution_count": 6,
     "metadata": {},
     "output_type": "execute_result"
    }
   ],
   "source": [
    "angle_from_agent(0,0,-1,-1)"
   ]
  },
  {
   "cell_type": "code",
   "execution_count": 4,
   "metadata": {},
   "outputs": [
    {
     "ename": "TypeError",
     "evalue": "'method' object is not subscriptable",
     "output_type": "error",
     "traceback": [
      "\u001b[1;31m---------------------------------------------------------------------------\u001b[0m",
      "\u001b[1;31mTypeError\u001b[0m                                 Traceback (most recent call last)",
      "\u001b[1;32mc:\\Users\\Admin\\Desktop\\Sem-5\\Artificial Intelligence\\Assignments\\New folder\\RL_Spec_Ops\\custom-environment\\env\\utils.ipynb Cell 4\u001b[0m line \u001b[0;36m3\n\u001b[0;32m      <a href='vscode-notebook-cell:/c%3A/Users/Admin/Desktop/Sem-5/Artificial%20Intelligence/Assignments/New%20folder/RL_Spec_Ops/custom-environment/env/utils.ipynb#W3sZmlsZQ%3D%3D?line=0'>1</a>\u001b[0m env\u001b[39m=\u001b[39mSpec_Ops_Env()\n\u001b[0;32m      <a href='vscode-notebook-cell:/c%3A/Users/Admin/Desktop/Sem-5/Artificial%20Intelligence/Assignments/New%20folder/RL_Spec_Ops/custom-environment/env/utils.ipynb#W3sZmlsZQ%3D%3D?line=1'>2</a>\u001b[0m \u001b[39m# obs={\"terrorist_0\":None, \"Soldier_0\":None}\u001b[39;00m\n\u001b[1;32m----> <a href='vscode-notebook-cell:/c%3A/Users/Admin/Desktop/Sem-5/Artificial%20Intelligence/Assignments/New%20folder/RL_Spec_Ops/custom-environment/env/utils.ipynb#W3sZmlsZQ%3D%3D?line=2'>3</a>\u001b[0m env\u001b[39m.\u001b[39;49mrender()\n",
      "File \u001b[1;32mc:\\Users\\Admin\\Desktop\\Sem-5\\Artificial Intelligence\\Assignments\\New folder\\RL_Spec_Ops\\custom-environment\\env\\custom_environment.py:384\u001b[0m, in \u001b[0;36mSpec_Ops_Env.render\u001b[1;34m(self)\u001b[0m\n\u001b[0;32m    382\u001b[0m \u001b[39m#CLI Rendering\u001b[39;00m\n\u001b[0;32m    383\u001b[0m os\u001b[39m.\u001b[39msystem(\u001b[39m'\u001b[39m\u001b[39mcls\u001b[39m\u001b[39m'\u001b[39m \u001b[39mif\u001b[39;00m os\u001b[39m.\u001b[39mname \u001b[39m==\u001b[39m \u001b[39m'\u001b[39m\u001b[39mnt\u001b[39m\u001b[39m'\u001b[39m \u001b[39melse\u001b[39;00m \u001b[39m'\u001b[39m\u001b[39mclear\u001b[39m\u001b[39m'\u001b[39m)\n\u001b[1;32m--> 384\u001b[0m \u001b[39mprint\u001b[39m(\u001b[39mtype\u001b[39m(\u001b[39mself\u001b[39m\u001b[39m.\u001b[39mstate))\n\u001b[0;32m    385\u001b[0m \u001b[39mfor\u001b[39;00m i \u001b[39min\u001b[39;00m \u001b[39mself\u001b[39m\u001b[39m.\u001b[39mstate[\u001b[39m'\u001b[39m\u001b[39mmap\u001b[39m\u001b[39m'\u001b[39m]:\n\u001b[0;32m    386\u001b[0m     \u001b[39mfor\u001b[39;00m j \u001b[39min\u001b[39;00m i:\n",
      "\u001b[1;31mTypeError\u001b[0m: 'method' object is not subscriptable"
     ]
    }
   ],
   "source": [
    "env=Spec_Ops_Env()\n",
    "# obs={\"terrorist_0\":None, \"Soldier_0\":None}\n",
    "env.render()"
   ]
  }
 ],
 "metadata": {
  "kernelspec": {
   "display_name": "Python 3",
   "language": "python",
   "name": "python3"
  },
  "language_info": {
   "codemirror_mode": {
    "name": "ipython",
    "version": 3
   },
   "file_extension": ".py",
   "mimetype": "text/x-python",
   "name": "python",
   "nbconvert_exporter": "python",
   "pygments_lexer": "ipython3",
   "version": "3.10.11"
  }
 },
 "nbformat": 4,
 "nbformat_minor": 2
}
